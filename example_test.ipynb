{
 "cells": [
  {
   "cell_type": "code",
   "id": "initial_id",
   "metadata": {
    "collapsed": true,
    "ExecuteTime": {
     "end_time": "2024-09-25T05:58:03.037842Z",
     "start_time": "2024-09-25T05:58:03.033875Z"
    }
   },
   "source": [
    "from transformers import (AutoTokenizer, AutoModelForCausalLM)\n",
    "import transformers\n",
    "import torch\n",
    "import sys\n",
    "import os\n",
    "\n",
    "transformers.logging.set_verbosity_error()"
   ],
   "outputs": [],
   "execution_count": 2
  },
  {
   "metadata": {
    "ExecuteTime": {
     "end_time": "2024-09-25T05:58:03.079051Z",
     "start_time": "2024-09-25T05:58:03.076135Z"
    }
   },
   "cell_type": "code",
   "source": [
    "root_dir = '...'  #root dir of project\n",
    "sys.path.append(root_dir)"
   ],
   "id": "ad1d0c1693d134e4",
   "outputs": [],
   "execution_count": 3
  },
  {
   "metadata": {
    "ExecuteTime": {
     "end_time": "2024-09-25T05:58:04.206701Z",
     "start_time": "2024-09-25T05:58:03.104251Z"
    }
   },
   "cell_type": "code",
   "source": [
    "from hmora import SUPPORTED_CAUSAL_MODELS, SUPPORTED_SEQ2SEQ_MODELS, HMoRaModel\n",
    "from utils.func import set_seed, set_device, to_json\n",
    "from hmora import TARGET_MODULE_TYPE"
   ],
   "id": "dd864cd35446e132",
   "outputs": [],
   "execution_count": 4
  },
  {
   "metadata": {
    "ExecuteTime": {
     "end_time": "2024-09-25T05:58:04.211540Z",
     "start_time": "2024-09-25T05:58:04.208625Z"
    }
   },
   "cell_type": "code",
   "source": [
    "checkpoint_path = '...' # checkpoint path\n",
    "model_name_or_path = 'Qwen/Qwen2-1.5B'"
   ],
   "id": "8821cb74735fe333",
   "outputs": [],
   "execution_count": 5
  },
  {
   "metadata": {
    "ExecuteTime": {
     "end_time": "2024-09-25T05:58:06.151251Z",
     "start_time": "2024-09-25T05:58:04.212608Z"
    }
   },
   "cell_type": "code",
   "source": "base_model = AutoModelForCausalLM.from_pretrained(model_name_or_path)",
   "id": "d036150d5e58ec50",
   "outputs": [],
   "execution_count": 6
  },
  {
   "metadata": {
    "ExecuteTime": {
     "end_time": "2024-09-25T05:58:06.816704Z",
     "start_time": "2024-09-25T05:58:06.155456Z"
    }
   },
   "cell_type": "code",
   "source": [
    "tokenizer = AutoTokenizer.from_pretrained(model_name_or_path)\n",
    "if tokenizer.padding_side == 'right':\n",
    "    tokenizer.padding_side = 'left'\n",
    "if tokenizer.pad_token is None:\n",
    "    tokenizer.pad_token = tokenizer.eos_token"
   ],
   "id": "a05220e23f0ebc93",
   "outputs": [],
   "execution_count": 7
  },
  {
   "metadata": {
    "ExecuteTime": {
     "end_time": "2024-09-25T05:58:10.228347Z",
     "start_time": "2024-09-25T05:58:06.818929Z"
    }
   },
   "cell_type": "code",
   "source": [
    "model = HMoRaModel.from_pretrained(base_model, checkpoint_path)\n",
    "peft_weights = torch.load(checkpoint_path + '/' + 'adapter_model.safetensors')\n",
    "model.load_state_dict(peft_weights, strict=False)\n",
    "model.eval()\n",
    "model"
   ],
   "id": "7391c34c4af6b83b",
   "outputs": [
    {
     "data": {
      "text/plain": [
       "Qwen2ForCausalLM(\n",
       "  (model): Qwen2Model(\n",
       "    (embed_tokens): Embedding(151936, 1536)\n",
       "    (layers): ModuleList(\n",
       "      (0-4): 5 x Qwen2DecoderLayer(\n",
       "        (self_attn): Qwen2Attention(\n",
       "          (q_proj): AdapterLinear(\n",
       "            (mora): MoRa(\n",
       "              (dropout): Dropout(p=0.1, inplace=False)\n",
       "            )\n",
       "            (router): TokenRouter(\n",
       "              (mlp): Sequential(\n",
       "                (0): Dropout(p=0.1, inplace=False)\n",
       "                (1): Linear(in_features=1536, out_features=8, bias=True)\n",
       "              )\n",
       "            )\n",
       "          )\n",
       "          (k_proj): AdapterLinear(\n",
       "            (mora): MoRa(\n",
       "              (dropout): Dropout(p=0.1, inplace=False)\n",
       "            )\n",
       "            (router): TokenRouter(\n",
       "              (mlp): Sequential(\n",
       "                (0): Dropout(p=0.1, inplace=False)\n",
       "                (1): Linear(in_features=1536, out_features=8, bias=True)\n",
       "              )\n",
       "            )\n",
       "          )\n",
       "          (v_proj): AdapterLinear(\n",
       "            (mora): MoRa(\n",
       "              (dropout): Dropout(p=0.1, inplace=False)\n",
       "            )\n",
       "            (router): TokenRouter(\n",
       "              (mlp): Sequential(\n",
       "                (0): Dropout(p=0.1, inplace=False)\n",
       "                (1): Linear(in_features=1536, out_features=8, bias=True)\n",
       "              )\n",
       "            )\n",
       "          )\n",
       "          (o_proj): AdapterLinear(\n",
       "            (lora): LoRA(\n",
       "              (dropout): Dropout(p=0.1, inplace=False)\n",
       "            )\n",
       "          )\n",
       "          (rotary_emb): Qwen2RotaryEmbedding()\n",
       "        )\n",
       "        (mlp): Qwen2MLP(\n",
       "          (gate_proj): AdapterLinear(\n",
       "            (mora): MoRa(\n",
       "              (dropout): Dropout(p=0.1, inplace=False)\n",
       "            )\n",
       "            (router): TokenRouter(\n",
       "              (mlp): Sequential(\n",
       "                (0): Dropout(p=0.1, inplace=False)\n",
       "                (1): Linear(in_features=1536, out_features=8, bias=True)\n",
       "              )\n",
       "            )\n",
       "          )\n",
       "          (up_proj): AdapterLinear(\n",
       "            (mora): MoRa(\n",
       "              (dropout): Dropout(p=0.1, inplace=False)\n",
       "            )\n",
       "            (router): TokenRouter(\n",
       "              (mlp): Sequential(\n",
       "                (0): Dropout(p=0.1, inplace=False)\n",
       "                (1): Linear(in_features=1536, out_features=8, bias=True)\n",
       "              )\n",
       "            )\n",
       "          )\n",
       "          (down_proj): AdapterLinear(\n",
       "            (lora): LoRA(\n",
       "              (dropout): Dropout(p=0.1, inplace=False)\n",
       "            )\n",
       "          )\n",
       "          (act_fn): SiLU()\n",
       "        )\n",
       "        (input_layernorm): Qwen2RMSNorm((1536,), eps=1e-06)\n",
       "        (post_attention_layernorm): Qwen2RMSNorm((1536,), eps=1e-06)\n",
       "      )\n",
       "      (5-22): 18 x Qwen2DecoderLayer(\n",
       "        (self_attn): Qwen2Attention(\n",
       "          (q_proj): AdapterLinear(\n",
       "            (mora): MoRa(\n",
       "              (dropout): Dropout(p=0.1, inplace=False)\n",
       "            )\n",
       "            (router): TokenRouter(\n",
       "              (task_router): TaskRouter(\n",
       "                (mlp): Sequential(\n",
       "                  (0): Dropout(p=0.1, inplace=False)\n",
       "                  (1): Linear(in_features=1536, out_features=8, bias=True)\n",
       "                )\n",
       "              )\n",
       "              (mlp): Sequential(\n",
       "                (0): Dropout(p=0.1, inplace=False)\n",
       "                (1): Linear(in_features=1536, out_features=8, bias=True)\n",
       "              )\n",
       "            )\n",
       "          )\n",
       "          (k_proj): AdapterLinear(\n",
       "            (mora): MoRa(\n",
       "              (dropout): Dropout(p=0.1, inplace=False)\n",
       "            )\n",
       "            (router): TokenRouter(\n",
       "              (task_router): TaskRouter(\n",
       "                (mlp): Sequential(\n",
       "                  (0): Dropout(p=0.1, inplace=False)\n",
       "                  (1): Linear(in_features=1536, out_features=8, bias=True)\n",
       "                )\n",
       "              )\n",
       "              (mlp): Sequential(\n",
       "                (0): Dropout(p=0.1, inplace=False)\n",
       "                (1): Linear(in_features=1536, out_features=8, bias=True)\n",
       "              )\n",
       "            )\n",
       "          )\n",
       "          (v_proj): AdapterLinear(\n",
       "            (mora): MoRa(\n",
       "              (dropout): Dropout(p=0.1, inplace=False)\n",
       "            )\n",
       "            (router): TokenRouter(\n",
       "              (task_router): TaskRouter(\n",
       "                (mlp): Sequential(\n",
       "                  (0): Dropout(p=0.1, inplace=False)\n",
       "                  (1): Linear(in_features=1536, out_features=8, bias=True)\n",
       "                )\n",
       "              )\n",
       "              (mlp): Sequential(\n",
       "                (0): Dropout(p=0.1, inplace=False)\n",
       "                (1): Linear(in_features=1536, out_features=8, bias=True)\n",
       "              )\n",
       "            )\n",
       "          )\n",
       "          (o_proj): AdapterLinear(\n",
       "            (lora): LoRA(\n",
       "              (dropout): Dropout(p=0.1, inplace=False)\n",
       "            )\n",
       "          )\n",
       "          (rotary_emb): Qwen2RotaryEmbedding()\n",
       "        )\n",
       "        (mlp): Qwen2MLP(\n",
       "          (gate_proj): AdapterLinear(\n",
       "            (mora): MoRa(\n",
       "              (dropout): Dropout(p=0.1, inplace=False)\n",
       "            )\n",
       "            (router): TokenRouter(\n",
       "              (task_router): TaskRouter(\n",
       "                (mlp): Sequential(\n",
       "                  (0): Dropout(p=0.1, inplace=False)\n",
       "                  (1): Linear(in_features=1536, out_features=8, bias=True)\n",
       "                )\n",
       "              )\n",
       "              (mlp): Sequential(\n",
       "                (0): Dropout(p=0.1, inplace=False)\n",
       "                (1): Linear(in_features=1536, out_features=8, bias=True)\n",
       "              )\n",
       "            )\n",
       "          )\n",
       "          (up_proj): AdapterLinear(\n",
       "            (mora): MoRa(\n",
       "              (dropout): Dropout(p=0.1, inplace=False)\n",
       "            )\n",
       "            (router): TokenRouter(\n",
       "              (task_router): TaskRouter(\n",
       "                (mlp): Sequential(\n",
       "                  (0): Dropout(p=0.1, inplace=False)\n",
       "                  (1): Linear(in_features=1536, out_features=8, bias=True)\n",
       "                )\n",
       "              )\n",
       "              (mlp): Sequential(\n",
       "                (0): Dropout(p=0.1, inplace=False)\n",
       "                (1): Linear(in_features=1536, out_features=8, bias=True)\n",
       "              )\n",
       "            )\n",
       "          )\n",
       "          (down_proj): AdapterLinear(\n",
       "            (lora): LoRA(\n",
       "              (dropout): Dropout(p=0.1, inplace=False)\n",
       "            )\n",
       "          )\n",
       "          (act_fn): SiLU()\n",
       "        )\n",
       "        (input_layernorm): Qwen2RMSNorm((1536,), eps=1e-06)\n",
       "        (post_attention_layernorm): Qwen2RMSNorm((1536,), eps=1e-06)\n",
       "      )\n",
       "      (23-27): 5 x Qwen2DecoderLayer(\n",
       "        (self_attn): Qwen2Attention(\n",
       "          (q_proj): AdapterLinear(\n",
       "            (mora): MoRa(\n",
       "              (dropout): Dropout(p=0.1, inplace=False)\n",
       "            )\n",
       "            (router): TokenRouter(\n",
       "              (task_router): TaskRouter(\n",
       "                (mlp): Sequential(\n",
       "                  (0): Dropout(p=0.1, inplace=False)\n",
       "                  (1): Linear(in_features=1536, out_features=8, bias=True)\n",
       "                )\n",
       "              )\n",
       "            )\n",
       "          )\n",
       "          (k_proj): AdapterLinear(\n",
       "            (mora): MoRa(\n",
       "              (dropout): Dropout(p=0.1, inplace=False)\n",
       "            )\n",
       "            (router): TokenRouter(\n",
       "              (task_router): TaskRouter(\n",
       "                (mlp): Sequential(\n",
       "                  (0): Dropout(p=0.1, inplace=False)\n",
       "                  (1): Linear(in_features=1536, out_features=8, bias=True)\n",
       "                )\n",
       "              )\n",
       "            )\n",
       "          )\n",
       "          (v_proj): AdapterLinear(\n",
       "            (mora): MoRa(\n",
       "              (dropout): Dropout(p=0.1, inplace=False)\n",
       "            )\n",
       "            (router): TokenRouter(\n",
       "              (task_router): TaskRouter(\n",
       "                (mlp): Sequential(\n",
       "                  (0): Dropout(p=0.1, inplace=False)\n",
       "                  (1): Linear(in_features=1536, out_features=8, bias=True)\n",
       "                )\n",
       "              )\n",
       "            )\n",
       "          )\n",
       "          (o_proj): AdapterLinear(\n",
       "            (lora): LoRA(\n",
       "              (dropout): Dropout(p=0.1, inplace=False)\n",
       "            )\n",
       "          )\n",
       "          (rotary_emb): Qwen2RotaryEmbedding()\n",
       "        )\n",
       "        (mlp): Qwen2MLP(\n",
       "          (gate_proj): AdapterLinear(\n",
       "            (mora): MoRa(\n",
       "              (dropout): Dropout(p=0.1, inplace=False)\n",
       "            )\n",
       "            (router): TokenRouter(\n",
       "              (task_router): TaskRouter(\n",
       "                (mlp): Sequential(\n",
       "                  (0): Dropout(p=0.1, inplace=False)\n",
       "                  (1): Linear(in_features=1536, out_features=8, bias=True)\n",
       "                )\n",
       "              )\n",
       "            )\n",
       "          )\n",
       "          (up_proj): AdapterLinear(\n",
       "            (mora): MoRa(\n",
       "              (dropout): Dropout(p=0.1, inplace=False)\n",
       "            )\n",
       "            (router): TokenRouter(\n",
       "              (task_router): TaskRouter(\n",
       "                (mlp): Sequential(\n",
       "                  (0): Dropout(p=0.1, inplace=False)\n",
       "                  (1): Linear(in_features=1536, out_features=8, bias=True)\n",
       "                )\n",
       "              )\n",
       "            )\n",
       "          )\n",
       "          (down_proj): AdapterLinear(\n",
       "            (lora): LoRA(\n",
       "              (dropout): Dropout(p=0.1, inplace=False)\n",
       "            )\n",
       "          )\n",
       "          (act_fn): SiLU()\n",
       "        )\n",
       "        (input_layernorm): Qwen2RMSNorm((1536,), eps=1e-06)\n",
       "        (post_attention_layernorm): Qwen2RMSNorm((1536,), eps=1e-06)\n",
       "      )\n",
       "    )\n",
       "    (norm): Qwen2RMSNorm((1536,), eps=1e-06)\n",
       "  )\n",
       "  (lm_head): Linear(in_features=1536, out_features=151936, bias=False)\n",
       "  (task_encoder): TaskEncoder(\n",
       "    (pos_encoder): PositionalEncoding()\n",
       "    (transformer_encoder): TransformerEncoder(\n",
       "      (layers): ModuleList(\n",
       "        (0): TransformerEncoderLayer(\n",
       "          (self_attn): MultiheadAttention(\n",
       "            (out_proj): NonDynamicallyQuantizableLinear(in_features=1536, out_features=1536, bias=True)\n",
       "          )\n",
       "          (linear1): Linear(in_features=1536, out_features=3072, bias=True)\n",
       "          (dropout): Dropout(p=0.1, inplace=False)\n",
       "          (linear2): Linear(in_features=3072, out_features=1536, bias=True)\n",
       "          (norm1): LayerNorm((1536,), eps=1e-05, elementwise_affine=True)\n",
       "          (norm2): LayerNorm((1536,), eps=1e-05, elementwise_affine=True)\n",
       "          (dropout1): Dropout(p=0.1, inplace=False)\n",
       "          (dropout2): Dropout(p=0.1, inplace=False)\n",
       "        )\n",
       "      )\n",
       "    )\n",
       "    (task_embedding): Embedding(1, 1536)\n",
       "  )\n",
       "  (router_manager): RouterManager(\n",
       "    (task_routers): ModuleList(\n",
       "      (0-45): 46 x TaskRouter(\n",
       "        (mlp): Sequential(\n",
       "          (0): Dropout(p=0.1, inplace=False)\n",
       "          (1): Linear(in_features=1536, out_features=8, bias=True)\n",
       "        )\n",
       "      )\n",
       "    )\n",
       "    (token_routers): ModuleList(\n",
       "      (0-9): 10 x TokenRouter(\n",
       "        (mlp): Sequential(\n",
       "          (0): Dropout(p=0.1, inplace=False)\n",
       "          (1): Linear(in_features=1536, out_features=8, bias=True)\n",
       "        )\n",
       "      )\n",
       "      (10-45): 36 x TokenRouter(\n",
       "        (task_router): TaskRouter(\n",
       "          (mlp): Sequential(\n",
       "            (0): Dropout(p=0.1, inplace=False)\n",
       "            (1): Linear(in_features=1536, out_features=8, bias=True)\n",
       "          )\n",
       "        )\n",
       "        (mlp): Sequential(\n",
       "          (0): Dropout(p=0.1, inplace=False)\n",
       "          (1): Linear(in_features=1536, out_features=8, bias=True)\n",
       "        )\n",
       "      )\n",
       "      (46-55): 10 x TokenRouter(\n",
       "        (task_router): TaskRouter(\n",
       "          (mlp): Sequential(\n",
       "            (0): Dropout(p=0.1, inplace=False)\n",
       "            (1): Linear(in_features=1536, out_features=8, bias=True)\n",
       "          )\n",
       "        )\n",
       "      )\n",
       "    )\n",
       "  )\n",
       ")"
      ]
     },
     "execution_count": 8,
     "metadata": {},
     "output_type": "execute_result"
    }
   ],
   "execution_count": 8
  },
  {
   "metadata": {},
   "cell_type": "markdown",
   "source": "# Zero shot",
   "id": "9d9b38bb77109dc7"
  },
  {
   "metadata": {
    "ExecuteTime": {
     "end_time": "2024-09-25T05:58:10.232719Z",
     "start_time": "2024-09-25T05:58:10.229563Z"
    }
   },
   "cell_type": "code",
   "source": [
    "question = 'Below is a multiple-choice question about abstract algebra. Please choose the correct answer.\\nFind the degree for the given field extension Q(sqrt(2), sqrt(3), sqrt(18)) over Q.\\nOptions:\\nA. 0\\nB. 4\\nC. 2\\nD. 6\\nAnswer:'\n",
    "input_text = f\"<|im_start|>system\\nYou are a helpful assistant.\\n<|im_end|>\\n<|im_start|>human\\n{question}\\n<|im_end|>\\n<|im_start|>assistant\\n\""
   ],
   "id": "16cdbea06db47a13",
   "outputs": [],
   "execution_count": 9
  },
  {
   "metadata": {
    "ExecuteTime": {
     "end_time": "2024-09-25T05:58:10.236989Z",
     "start_time": "2024-09-25T05:58:10.233796Z"
    }
   },
   "cell_type": "code",
   "source": "print(input_text)",
   "id": "f71f5eaa92560d66",
   "outputs": [
    {
     "name": "stdout",
     "output_type": "stream",
     "text": [
      "<|im_start|>system\n",
      "You are a helpful assistant.\n",
      "<|im_end|>\n",
      "<|im_start|>human\n",
      "Below is a multiple-choice question about abstract algebra. Please choose the correct answer.\n",
      "Find the degree for the given field extension Q(sqrt(2), sqrt(3), sqrt(18)) over Q.\n",
      "Options:\n",
      "A. 0\n",
      "B. 4\n",
      "C. 2\n",
      "D. 6\n",
      "Answer:\n",
      "<|im_end|>\n",
      "<|im_start|>assistant\n",
      "\n"
     ]
    }
   ],
   "execution_count": 10
  },
  {
   "metadata": {
    "ExecuteTime": {
     "end_time": "2024-09-25T05:58:11.837047Z",
     "start_time": "2024-09-25T05:58:10.238042Z"
    }
   },
   "cell_type": "code",
   "source": [
    "ids = tokenizer(input_text, return_tensors='pt', add_special_tokens=False)\n",
    "if model.task_encoder is not None:\n",
    "    prefix_tensors = tokenizer(input_text, padding=True, return_tensors='pt', add_special_tokens=False)\n",
    "    embedding = getattr(model.base_model, TARGET_MODULE_TYPE[model.config.model_type]['embed'])\n",
    "    hidden_states = embedding(prefix_tensors.input_ids)\n",
    "    task_embed = model.task_encoder(hidden_states, prefix_tensors.attention_mask)\n",
    "    model.router_manager.set_task_weight(task_embed)\n",
    "res = model.generate(input_ids=ids.input_ids, max_new_tokens=512, eos_token_id=tokenizer.eos_token_id)"
   ],
   "id": "782760d22cfc9d79",
   "outputs": [],
   "execution_count": 11
  },
  {
   "metadata": {
    "ExecuteTime": {
     "end_time": "2024-09-25T05:58:11.842811Z",
     "start_time": "2024-09-25T05:58:11.838622Z"
    }
   },
   "cell_type": "code",
   "source": "print(tokenizer.decode(res[0]).replace(input_text, '').replace('<|endoftext|>', ''))",
   "id": "574686142397912",
   "outputs": [
    {
     "name": "stdout",
     "output_type": "stream",
     "text": [
      "D\n"
     ]
    }
   ],
   "execution_count": 12
  },
  {
   "metadata": {},
   "cell_type": "markdown",
   "source": "# Few shot",
   "id": "d88e2b82f4a17fd7"
  },
  {
   "metadata": {
    "ExecuteTime": {
     "end_time": "2024-09-25T05:58:11.848668Z",
     "start_time": "2024-09-25T05:58:11.845194Z"
    }
   },
   "cell_type": "code",
   "source": [
    "question = 'Below is a multiple-choice question about anatomy. Please choose the correct answer.\\nA lesion causing compression of the facial nerve at the stylomastoid foramen will cause ipsilateral\\nOptions:\\nA. paralysis of the facial muscles.\\nB. paralysis of the facial muscles and loss of taste.\\nC. paralysis of the facial muscles, loss of taste and lacrimation.\\nD. paralysis of the facial muscles, loss of taste, lacrimation and decreased salivation.\\nAnswer:A\\n\\nBelow is a multiple-choice question about abstract algebra. Please choose the correct answer.\\nFind the degree for the given field extension Q(sqrt(2), sqrt(3), sqrt(18)) over Q.\\nOptions:\\nA. 0\\nB. 4\\nC. 2\\nD. 6\\nAnswer:'\n",
    "input_text = f\"<|im_start|>system\\nYou are a helpful assistant.\\n<|im_end|>\\n<|im_start|>human\\n{question}\\n<|im_end|>\\n<|im_start|>assistant\\n\""
   ],
   "id": "aa8ab08fcd518cc5",
   "outputs": [],
   "execution_count": 13
  },
  {
   "metadata": {
    "ExecuteTime": {
     "end_time": "2024-09-25T05:58:11.853329Z",
     "start_time": "2024-09-25T05:58:11.849972Z"
    }
   },
   "cell_type": "code",
   "source": "print(input_text)",
   "id": "156086a6087f72e3",
   "outputs": [
    {
     "name": "stdout",
     "output_type": "stream",
     "text": [
      "<|im_start|>system\n",
      "You are a helpful assistant.\n",
      "<|im_end|>\n",
      "<|im_start|>human\n",
      "Below is a multiple-choice question about anatomy. Please choose the correct answer.\n",
      "A lesion causing compression of the facial nerve at the stylomastoid foramen will cause ipsilateral\n",
      "Options:\n",
      "A. paralysis of the facial muscles.\n",
      "B. paralysis of the facial muscles and loss of taste.\n",
      "C. paralysis of the facial muscles, loss of taste and lacrimation.\n",
      "D. paralysis of the facial muscles, loss of taste, lacrimation and decreased salivation.\n",
      "Answer:A\n",
      "\n",
      "Below is a multiple-choice question about abstract algebra. Please choose the correct answer.\n",
      "Find the degree for the given field extension Q(sqrt(2), sqrt(3), sqrt(18)) over Q.\n",
      "Options:\n",
      "A. 0\n",
      "B. 4\n",
      "C. 2\n",
      "D. 6\n",
      "Answer:\n",
      "<|im_end|>\n",
      "<|im_start|>assistant\n",
      "\n"
     ]
    }
   ],
   "execution_count": 14
  },
  {
   "metadata": {
    "ExecuteTime": {
     "end_time": "2024-09-25T05:58:13.022039Z",
     "start_time": "2024-09-25T05:58:11.854450Z"
    }
   },
   "cell_type": "code",
   "source": [
    "ids = tokenizer(input_text, return_tensors='pt', add_special_tokens=False)\n",
    "if model.task_encoder is not None:\n",
    "    prefix_tensors = tokenizer(input_text, padding=True, return_tensors='pt', add_special_tokens=False)\n",
    "    embedding = getattr(model.base_model, TARGET_MODULE_TYPE[model.config.model_type]['embed'])\n",
    "    hidden_states = embedding(prefix_tensors.input_ids)\n",
    "    task_embed = model.task_encoder(hidden_states, prefix_tensors.attention_mask)\n",
    "    model.router_manager.set_task_weight(task_embed)\n",
    "res = model.generate(input_ids=ids.input_ids, max_new_tokens=512, eos_token_id=tokenizer.eos_token_id)"
   ],
   "id": "58ac17ad737b14eb",
   "outputs": [],
   "execution_count": 15
  },
  {
   "metadata": {
    "ExecuteTime": {
     "end_time": "2024-09-25T05:58:13.027300Z",
     "start_time": "2024-09-25T05:58:13.023578Z"
    }
   },
   "cell_type": "code",
   "source": "print(tokenizer.decode(res[0]).replace(input_text, '').replace('<|endoftext|>', ''))",
   "id": "5fd3a196c8ddffcc",
   "outputs": [
    {
     "name": "stdout",
     "output_type": "stream",
     "text": [
      "D\n"
     ]
    }
   ],
   "execution_count": 16
  },
  {
   "metadata": {
    "ExecuteTime": {
     "end_time": "2024-09-25T05:58:13.030553Z",
     "start_time": "2024-09-25T05:58:13.028674Z"
    }
   },
   "cell_type": "code",
   "source": "",
   "id": "1689cf300648bee",
   "outputs": [],
   "execution_count": 16
  }
 ],
 "metadata": {
  "kernelspec": {
   "display_name": "Python 3",
   "language": "python",
   "name": "python3"
  },
  "language_info": {
   "codemirror_mode": {
    "name": "ipython",
    "version": 2
   },
   "file_extension": ".py",
   "mimetype": "text/x-python",
   "name": "python",
   "nbconvert_exporter": "python",
   "pygments_lexer": "ipython2",
   "version": "2.7.6"
  }
 },
 "nbformat": 4,
 "nbformat_minor": 5
}
